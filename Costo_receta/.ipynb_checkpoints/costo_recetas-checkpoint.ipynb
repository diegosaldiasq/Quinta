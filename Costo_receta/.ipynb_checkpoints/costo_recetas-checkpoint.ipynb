{
 "cells": [
  {
   "cell_type": "code",
   "execution_count": 1,
   "id": "b851672c",
   "metadata": {},
   "outputs": [],
   "source": [
    "import pandas as pd\n",
    "import numpy as np\n",
    "import matplotlib.pyplot as plt\n",
    "import seaborn as sns\n",
    "%matplotlib inline"
   ]
  },
  {
   "cell_type": "code",
   "execution_count": 3,
   "id": "ca7558e1",
   "metadata": {},
   "outputs": [
    {
     "name": "stdout",
     "output_type": "stream",
     "text": [
      "<class 'pandas.core.frame.DataFrame'>\n",
      "RangeIndex: 119507 entries, 0 to 119506\n",
      "Data columns (total 28 columns):\n",
      " #   Column                    Non-Null Count   Dtype         \n",
      "---  ------                    --------------   -----         \n",
      " 0   # Orden                   119507 non-null  int64         \n",
      " 1   Fecha de Creación         119507 non-null  datetime64[ns]\n",
      " 2   Fecha de Vencimiento      119507 non-null  object        \n",
      " 3   Turno                     119507 non-null  int64         \n",
      " 4   Estatus de la Orden       119507 non-null  object        \n",
      " 5   Artículo a Producir       119507 non-null  int64         \n",
      " 6   Descripción del Artículo  119507 non-null  object        \n",
      " 7   Insumo                    119507 non-null  object        \n",
      " 8   Pasteleria                119507 non-null  object        \n",
      " 9   Grupo                     119507 non-null  int64         \n",
      " 10  Almacén                   119507 non-null  object        \n",
      " 11  Descripción Almacén       119507 non-null  object        \n",
      " 12  Cantidad Planificada      119507 non-null  int64         \n",
      " 13  Cantidad Completada       119507 non-null  int64         \n",
      " 14  Productividad             119507 non-null  float64       \n",
      " 15  Insumo.1                  119507 non-null  object        \n",
      " 16  Nombre del Insumo         119507 non-null  object        \n",
      " 17  Cantidad Base             119507 non-null  float64       \n",
      " 18  Cantidad Planificada.1    119507 non-null  float64       \n",
      " 19  Cantidad Entregada        119507 non-null  float64       \n",
      " 20  SobreConsumo              0 non-null       float64       \n",
      " 21  Costo                     119507 non-null  float64       \n",
      " 22  Costo receta  DO          119507 non-null  float64       \n",
      " 23  Costo receta Q            119507 non-null  float64       \n",
      " 24  Mes                       119507 non-null  int64         \n",
      " 25  Planta                    119507 non-null  object        \n",
      " 26  Producido                 119507 non-null  int64         \n",
      " 27  CR DO                     119507 non-null  float64       \n",
      "dtypes: datetime64[ns](1), float64(9), int64(8), object(10)\n",
      "memory usage: 25.5+ MB\n"
     ]
    }
   ],
   "source": [
    "df = pd.read_excel('Costo_receta.xlsx',sheet_name='Detalle of')\n",
    "df.info()"
   ]
  },
  {
   "cell_type": "code",
   "execution_count": null,
   "id": "22dab1a2",
   "metadata": {},
   "outputs": [],
   "source": []
  }
 ],
 "metadata": {
  "kernelspec": {
   "display_name": "Python 3 (ipykernel)",
   "language": "python",
   "name": "python3"
  },
  "language_info": {
   "codemirror_mode": {
    "name": "ipython",
    "version": 3
   },
   "file_extension": ".py",
   "mimetype": "text/x-python",
   "name": "python",
   "nbconvert_exporter": "python",
   "pygments_lexer": "ipython3",
   "version": "3.9.12"
  }
 },
 "nbformat": 4,
 "nbformat_minor": 5
}
